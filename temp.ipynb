import random
import simpy
from statistics import mean

Num_repl = 50
total_cars = 0  # Overall car counter
wash_times = []
tot_times = []

class Carwash(object):
    def __init__(self, env, num_wash, wash_rate):
        self.env = env
        self.num_wash = num_wash
        self.wash_rate = wash_rate
        self.washers = simpy.Resource(env, self.num_wash)
        
    def wash_car(self, car_name):
        wash_duration = random.uniform(self.wash_rate[0], self.wash_rate[1])
        yield self.env.timeout(wash_duration)
        
def Car(env, name, carwash):
    ta = env.now  # arrival
    
    with carwash.washers.request() as request:
        yield request
        ts = env.now  # start
        tw_wash = ts - ta
        
        yield env.process(carwash.wash_car(name))
        tva_wash = env.now - ts
        
    wash_times.append([tw_wash, tva_wash])
    tot_times.append(env.now - ta)
    
def Cars_Arrive(env, carwash, arr_rate):
    global total_cars
    num_cars = 0
    
    while True:
        yield env.timeout(random.expovariate(arr_rate))
        num_cars += 1
        total_cars += 1
        env.process(Car(env, f'Car {num_cars}', carwash))
        
# Loop for replications
for i in range(Num_repl):
    theEnv = simpy.Environment()
    carwash = Carwash(theEnv, num_wash=2, wash_rate=[7, 10])  # wash takes 7–10 minutes
    theEnv.process(Cars_Arrive(theEnv, carwash, arr_rate=0.2))  # arrivals every 5 min
    theEnv.run(until=10*60)  # simulate 10 hours

# Print some stats
print(f'Average number of cars per replication: {total_cars / Num_repl:.2f}')
avg_wash_wait = mean([wt[0] for wt in wash_times])
avg_wash_time = mean([wt[1] for wt in wash_times])
avg_sys_time = mean(tot_times)

print(f'Average wash wait time: {avg_wash_wait:.2f} minutes')
print(f'Average wash time: {avg_wash_time:.2f} minutes')
print(f'Average total time in system: {avg_sys_time:.2f} minutes')